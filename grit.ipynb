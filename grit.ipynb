{
  "nbformat": 4,
  "nbformat_minor": 0,
  "metadata": {
    "colab": {
      "name": "grit",
      "provenance": [],
      "authorship_tag": "ABX9TyNLIo2LbyQM68kKg4e4VA4+",
      "include_colab_link": true
    },
    "kernelspec": {
      "name": "python3",
      "display_name": "Python 3"
    },
    "language_info": {
      "name": "python"
    }
  },
  "cells": [
    {
      "cell_type": "markdown",
      "metadata": {
        "id": "view-in-github",
        "colab_type": "text"
      },
      "source": [
        "<a href=\"https://colab.research.google.com/github/forhayley/nn.LEGOS/blob/master/grit.ipynb\" target=\"_parent\"><img src=\"https://colab.research.google.com/assets/colab-badge.svg\" alt=\"Open In Colab\"/></a>"
      ]
    },
    {
      "cell_type": "code",
      "metadata": {
        "colab": {
          "base_uri": "https://localhost:8080/",
          "height": 35
        },
        "id": "j7tABI-pLZuF",
        "outputId": "d640332c-3cc7-4e3c-b8ee-1bbcf5e4b9bb"
      },
      "source": [
        "speed = 0 \n",
        "iteration = 0\n",
        "scrap = 0\n",
        "leveraging = 0\n",
        "trust = 3\n",
        "\"\"\"\n",
        "creativity\n",
        "communication\n",
        "\"\"\""
      ],
      "execution_count": null,
      "outputs": [
        {
          "output_type": "execute_result",
          "data": {
            "application/vnd.google.colaboratory.intrinsic+json": {
              "type": "string"
            },
            "text/plain": [
              "'\\ncreativity\\ncommunication\\n'"
            ]
          },
          "metadata": {
            "tags": []
          },
          "execution_count": 24
        }
      ]
    },
    {
      "cell_type": "code",
      "metadata": {
        "id": "7F9iRqjsLc29"
      },
      "source": [
        "def my_funk (speed, iteration, scrap, leveraging, trust):\n",
        "    if speed > 5 and iteration <= 8:\n",
        "        print (\"scrap matters for this candidate\")\n",
        "    elif scrap >= 9 and iteration >= 8:\n",
        "            print (\"serious attributes\")\n",
        "    if speed >= 9:\n",
        "            print (\"N4Speed\")\n",
        "    else:\n",
        "        if leveraging >= 4 or scrap == 8:\n",
        "            print(\"t4v\")\n",
        "        if trust == 3:\n",
        "            print (\"somfring\")\n",
        "    return"
      ],
      "execution_count": null,
      "outputs": []
    },
    {
      "cell_type": "code",
      "metadata": {
        "colab": {
          "base_uri": "https://localhost:8080/"
        },
        "id": "ZttXh98ZCgQp",
        "outputId": "472b716b-0196-42b7-ba84-c3beeb8e2037"
      },
      "source": [
        "my_funk(speed = 3, iteration = 7, scrap = 6, leveraging = 6, trust = 3)"
      ],
      "execution_count": null,
      "outputs": [
        {
          "output_type": "stream",
          "text": [
            "t4v\n",
            "somfring\n"
          ],
          "name": "stdout"
        }
      ]
    },
    {
      "cell_type": "code",
      "metadata": {
        "id": "ddtdtYB1tOOW"
      },
      "source": [
        "def math_mania (int):\n",
        "    x = (2*(int))/3\n",
        "    print (x)\n",
        "    return\n"
      ],
      "execution_count": null,
      "outputs": []
    },
    {
      "cell_type": "code",
      "metadata": {
        "colab": {
          "base_uri": "https://localhost:8080/"
        },
        "id": "VdXycrj_0vDW",
        "outputId": "aef8e510-b89a-4172-fd4e-db52ce0a2130"
      },
      "source": [
        "math_mania(4)"
      ],
      "execution_count": null,
      "outputs": [
        {
          "output_type": "stream",
          "text": [
            "2.6666666666666665\n"
          ],
          "name": "stdout"
        }
      ]
    },
    {
      "cell_type": "code",
      "metadata": {
        "id": "ukimBd_X1kwC"
      },
      "source": [
        "def dbl_mani (int):\n",
        "    m = (int)\n",
        "    math_mania(m)\n",
        "    '''print (m)'''\n",
        "    return "
      ],
      "execution_count": null,
      "outputs": []
    },
    {
      "cell_type": "code",
      "metadata": {
        "id": "dfy4Z-lHe8XH"
      },
      "source": [
        "import random "
      ],
      "execution_count": 167,
      "outputs": []
    },
    {
      "cell_type": "code",
      "metadata": {
        "id": "5DVs8-rL2VJ1"
      },
      "source": [
        "class Shape:\n",
        "    def __init__(self, c, l, w, h): #passing self down into intial\n",
        "        self.color = c\n",
        "        self.length = l\n",
        "        self.width = w\n",
        "        self.height = h\n",
        "\n",
        "    def vol (self):\n",
        "        self.vol=self.length*self.width*self.height \n",
        "        return self.vol\n",
        "\n",
        "    def side_are (self):\n",
        "        self.area_top=self.width*self.length\n",
        "        self.area_side=self.width*self.height\n",
        "        return self.area_top, self.area_side\n",
        "\n",
        "    def measuremaker (self):\n",
        "        if self.length >= 5:\n",
        "            print (\"long sides\")\n",
        "        elif self.width == 2 and self.height == 2:\n",
        "            print (\"snake eyes\")\n",
        "        else:\n",
        "            if self.length == 2 or self.width == 1:\n",
        "                print (\"something new\")\n",
        "        return self.measuremaker\n",
        "\n",
        "    def switching (self):\n",
        "        self.length = random.randint(0, 100)\n",
        "        self.width = random.randint(0, 100)\n",
        "        self.height = random.randint(0, 100)\n",
        "        print (self.length, self.width, self.height)\n",
        "        return self.switching"
      ],
      "execution_count": 173,
      "outputs": []
    },
    {
      "cell_type": "code",
      "metadata": {
        "id": "RHFNlL57JePe"
      },
      "source": [
        "mySHA1=Shape(\"nyle\",5,1,2)"
      ],
      "execution_count": 174,
      "outputs": []
    },
    {
      "cell_type": "code",
      "metadata": {
        "colab": {
          "base_uri": "https://localhost:8080/"
        },
        "id": "C8DsgwUefQ9Z",
        "outputId": "aea00ba1-0b2c-4424-93e9-55e92bbefc50"
      },
      "source": [
        "print(mySHA1.switching())"
      ],
      "execution_count": 175,
      "outputs": [
        {
          "output_type": "stream",
          "text": [
            "11 28 34\n",
            "<bound method Shape.switching of <__main__.Shape object at 0x7f78cfb3d150>>\n"
          ],
          "name": "stdout"
        }
      ]
    },
    {
      "cell_type": "code",
      "metadata": {
        "id": "sbJ4Zn-UgTYh"
      },
      "source": [
        "NU1=Shape('acorn',5,4,4)"
      ],
      "execution_count": 179,
      "outputs": []
    },
    {
      "cell_type": "code",
      "metadata": {
        "colab": {
          "base_uri": "https://localhost:8080/"
        },
        "id": "C6vEbj_PbhzK",
        "outputId": "8d2000cc-f4c5-425e-9ace-0b21289a5f0c"
      },
      "source": [
        "print(NU1.switching())"
      ],
      "execution_count": 182,
      "outputs": [
        {
          "output_type": "stream",
          "text": [
            "78 36 84\n",
            "<bound method Shape.switching of <__main__.Shape object at 0x7f78cfb24450>>\n"
          ],
          "name": "stdout"
        }
      ]
    },
    {
      "cell_type": "code",
      "metadata": {
        "colab": {
          "base_uri": "https://localhost:8080/"
        },
        "id": "LoUi5I1SLBou",
        "outputId": "3dccf912-8771-4919-a4a3-3207fded5b05"
      },
      "source": [
        "print('top side dims =', mySHA1.side_are())"
      ],
      "execution_count": 152,
      "outputs": [
        {
          "output_type": "stream",
          "text": [
            "top side dims = (4, 4)\n"
          ],
          "name": "stdout"
        }
      ]
    },
    {
      "cell_type": "code",
      "metadata": {
        "colab": {
          "base_uri": "https://localhost:8080/"
        },
        "id": "mUrPgPsALK9d",
        "outputId": "1b2a928c-a00c-469b-ab53-6f5bcd138b95"
      },
      "source": [
        "print('this is the color = ',mySHA1.color)"
      ],
      "execution_count": null,
      "outputs": [
        {
          "output_type": "stream",
          "text": [
            "this is the color =  nyle\n"
          ],
          "name": "stdout"
        }
      ]
    },
    {
      "cell_type": "code",
      "metadata": {
        "colab": {
          "base_uri": "https://localhost:8080/"
        },
        "id": "3MzyMP4SLQad",
        "outputId": "50d59e18-84aa-4b32-8b04-48e9e475fb2a"
      },
      "source": [
        "print('mySHA1 area = ', mySHA1.vol())"
      ],
      "execution_count": null,
      "outputs": [
        {
          "output_type": "stream",
          "text": [
            "mySHA1 area =  8\n"
          ],
          "name": "stdout"
        }
      ]
    },
    {
      "cell_type": "code",
      "metadata": {
        "id": "mayUFK3IbP7v"
      },
      "source": [
        "def mats (a, b):\n",
        "    print ((a * b) / random.randint(0,100))\n",
        "    return "
      ],
      "execution_count": 222,
      "outputs": []
    },
    {
      "cell_type": "code",
      "metadata": {
        "colab": {
          "base_uri": "https://localhost:8080/"
        },
        "id": "X_Zw1Rw7hKSc",
        "outputId": "d03346f6-1946-4c58-fc6f-b8cc0dad1ea0"
      },
      "source": [
        "mats (1,2)"
      ],
      "execution_count": 223,
      "outputs": [
        {
          "output_type": "stream",
          "text": [
            "0.2857142857142857\n"
          ],
          "name": "stdout"
        }
      ]
    },
    {
      "cell_type": "code",
      "metadata": {
        "id": "I6pJ9TTGjWAo"
      },
      "source": [
        ""
      ],
      "execution_count": null,
      "outputs": []
    }
  ]
}